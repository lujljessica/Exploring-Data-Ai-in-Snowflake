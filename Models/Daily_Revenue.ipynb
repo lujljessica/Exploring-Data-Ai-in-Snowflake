{
 "metadata": {
  "kernelspec": {
   "display_name": "Streamlit Notebook",
   "name": "streamlit"
  },
  "lastEditStatus": {
   "notebookId": "b7hgoteehmgcm324ufoj",
   "authorId": "4013015440399",
   "authorName": "JESSICALU",
   "authorEmail": "Jessica.Lu@intellinexusgroup.com",
   "sessionId": "1e0c2000-a71a-4122-a2b8-c13dffd5a18c",
   "lastEditTime": 1741882013936
  }
 },
 "nbformat_minor": 5,
 "nbformat": 4,
 "cells": [
  {
   "cell_type": "markdown",
   "id": "3b4e8541-d441-4137-9b39-b7289d1b3670",
   "metadata": {
    "name": "cell1",
    "collapsed": false
   },
   "source": "# Train Daily Revenue Sproc"
  },
  {
   "cell_type": "markdown",
   "id": "5660ee6c-c820-4d42-a475-b93bfdc0323d",
   "metadata": {
    "name": "cell13",
    "collapsed": false
   },
   "source": "## With pandas dfs"
  },
  {
   "cell_type": "code",
   "id": "715f2281-e38a-4f72-a08c-7217c940aab9",
   "metadata": {
    "language": "python",
    "name": "cell4",
    "collapsed": false
   },
   "outputs": [],
   "source": "\nimport pandas as pd\nimport numpy as np\nimport snowflake.snowpark as snowpark\nfrom snowflake.snowpark import Session\n\nfrom snowflake.snowpark.functions import sproc\nfrom snowflake.ml.registry import Registry\nfrom sklearn.metrics import mean_squared_error, mean_absolute_error, r2_score\n\nfrom snowflake.snowpark.context import get_active_session\nfrom sklearn.model_selection import train_test_split, GridSearchCV\nfrom sklearn.model_selection import TimeSeriesSplit\nimport xgboost as xgb\n\nsession = get_active_session()\n\n\nsproc_name = 'retail_demo.Silver.Daily_Revenue_Train_XGB'\nstage_name = 'retail_demo.Silver.Model_stage'\n\n@sproc(name=sproc_name,  \n       stage_location=stage_name,  \n       is_permanent=True, \n       replace=True, \n       packages=[\n        \"snowflake-snowpark-python\",\n        'snowflake-ml-python', \n        'xgboost',\n        'pandas', \n         ])\ndef train_and_save_model(session: Session, major_version: bool = True) -> str:\n    model_name = 'DAILY_REVENUE_XGB'\n    train_vw_name =  'retail_demo.silver.vw_daily_revenue_train'\n    test_vw_name  =  'retail_demo.silver.vw_daily_revenue_test'\n    \n    target_cols = ['TOTAL_AMOUNT']  \n\n    train_df = session.table(train_vw_name)\n    test_df = session.table(test_vw_name)\n    \n    ts_features = session.table('Retail_demo.Silver.Date_features')\n    train_df = train_df.join(ts_features, train_df['TRANSACTION_DATE'] == ts_features[\"DATE_\"])\n    results_df = test_df.drop( \"TOTAL_AMOUNT\").to_pandas()\n                \n    X_train = train_df.drop(\"Transaction_date\", \"date_\", \"TOTAL_AMOUNT\").to_pandas()\n    y_train = train_df[[\"TOTAL_AMOUNT\"]].to_pandas()\n    test_df = test_df.join(ts_features, test_df['TRANSACTION_DATE'] == ts_features[\"DATE_\"])\n                \n    X_test = test_df.drop(\"Transaction_date\", \"date_\").to_pandas()\n    y_test = X_test[\"TOTAL_AMOUNT\"]\n    X_test = X_test.drop(columns = [\"TOTAL_AMOUNT\"])\n               \n    param_grid = {\n        'learning_rate': [ 0.05, 0.1],\n        'n_estimators': [50, 100, 200],\n        'max_depth': [3, 5, 7],\n        'subsample': [0.8, 1.0],\n        'colsample_bytree': [0.8, 1.0]\n    }\n                    \n                    \n    xgb_model = xgb.XGBRegressor(objective='reg:squarederror')\n    tscv = TimeSeriesSplit(n_splits=5)\n    grid_search = GridSearchCV(estimator=xgb_model, \n                               param_grid=param_grid, \n                               scoring='neg_mean_squared_error', \n                               cv=tscv, \n                              )\n\n\n    grid_search.fit(X_train, y_train)\n    best_params = grid_search.best_params_\n \n    best_model = grid_search.best_estimator_\n    y_pred = best_model.predict(X_test)\n    results_df['Predicted_Amount'] = y_pred\n    \n    mae = mean_absolute_error(y_test, y_pred)\n    mape = np.mean(np.abs((y_test - y_pred) / y_test)) * 100\n    #r2 = r2_score(y_test, y_pred)\n    #msle = np.mean(np.square(np.log1p(y_test) - np.log1p(y_pred)))\n    rmse = np.sqrt(mean_squared_error(y_test, y_pred))\n    mse = mean_squared_error(y_test, y_pred)\n    sf_df = session.write_pandas(results_df,database = \"RETAIL_DEMO\", schema = \"GOLD\", table_name = \"XGB_FORECASTED_DAILY_REVENUE\", auto_create_table=True, overwrite=True)\n    def set_model_version(registry_object,model_name, major_version):\n        import numpy as np\n        import json\n        \n        model_list = registry_object.show_models()\n        if len(model_list) == 0:\n            return 'V1'\n        \n        model_list_filter = model_list[model_list['name'] ==  model_name]\n        if len(model_list_filter) == 0:\n            return 'V1'\n\n        version_list_string = model_list_filter['versions'].iloc[0]\n        version_list = json.loads(version_list_string)\n        version_numbers = [float(s.replace('V', '')) for s in version_list]\n        model_last_version = max(version_numbers)\n        \n        if np.isnan(model_last_version) == True:\n            model_new_version = 'V1'\n\n        elif np.isnan(model_last_version) == False and major_version == True:\n            model_new_version = round(model_last_version + 1,2)\n            model_new_version = 'V' + str(model_new_version)\n            \n        else:\n            model_new_version = round(model_last_version + .1,2)\n            model_new_version = 'V' + str(model_new_version)\n          \n        return model_new_version # This is the version we will use when we log the new model.\n    # Create model regisry object\n    try:\n        model_registry = Registry(session=session, database_name=session.get_current_database(), schema_name='SILVER')\n    except Exception as e:\n        return (f'Error with creating model registry object: {e}')\n\n    try:\n        version_name = set_model_version(model_registry, model_name, major_version=major_version)\n            \n        X = X_train.head(100)\n        model_version = model_registry.log_model(\n                        best_model, \n                        model_name = model_name, \n                        version_name= f'\"{version_name}\"',\n                        sample_input_data=X,\n                        conda_dependencies=['snowflake-snowpark-python','snowflake-ml-python','scikit-learn', 'pandas', 'numpy', 'xgboost'],\n                        options={'relax_version': True},\n                        )\n        model_version.set_metric(metric_name='mean_abs_pct_err', value=mape)\n        model_version.set_metric(metric_name='mean_sq_err', value=mse)\n                \n    except Exception as e:\n        print(f'Error with saving model to registry: {e}')\n                \n    try:\n        session.sql(f'alter model {model_name} set default_version = \"{version_name}\";')\n    except Exception as e:\n        print( f'Error with setting default version: {e}')\n    return f'Model {model_name} has been logged with version {version_name} and has a MAPE of {mape} and MSE of {rmse}'  \n",
   "execution_count": null
  },
  {
   "cell_type": "code",
   "id": "9bcf854c-062c-4057-a345-4dabd1e5b316",
   "metadata": {
    "language": "sql",
    "name": "cell5"
   },
   "outputs": [],
   "source": "CALL retail_demo.silver.Daily_Revenue_Train_XGB(False);",
   "execution_count": null
  },
  {
   "cell_type": "markdown",
   "id": "3e1fafbe-36be-4c2c-adff-43163ee9e5b8",
   "metadata": {
    "name": "cell2",
    "collapsed": false
   },
   "source": "# Predict and write to gold Sproc\n"
  },
  {
   "cell_type": "code",
   "id": "6e908530-fc60-4207-8642-87e1a7a93303",
   "metadata": {
    "language": "python",
    "name": "cell6",
    "codeCollapsed": false
   },
   "outputs": [],
   "source": "\nimport pandas as pd\nimport snowflake.snowpark as snowpark\nfrom snowflake.snowpark import Session\n\nfrom snowflake.snowpark.functions import sproc\nfrom snowflake.ml.registry import Registry\nfrom snowflake.snowpark.context import get_active_session\nsession = get_active_session()\n\n\nsproc_name = 'retail_demo.Silver.Daily_Rev_Pred_Write'\nstage_name = 'retail_demo.Silver.Model_stage'\n\n@sproc(name=sproc_name,  \n       stage_location=stage_name,  \n       is_permanent=True, \n       replace=True, \n       packages=[\n        \"snowflake-snowpark-python\",\n        'snowflake-ml-python', \n        'pandas', \n         ])\ndef predict_and_write(session: Session) -> str:\n    sf_df = session.sql(\"\"\"\n            select * from (\n            WITH Last_Date_CTE AS (\n                SELECT MAX(transaction_date) AS Last_Date\n                FROM retail_demo.silver.daily_revenue\n            ),\n            Future_Dates_CTE AS (\n                SELECT DATEADD(DAY, SEQ4(), Last_Date) AS Transaction_date\n                FROM Last_Date_CTE,\n                     TABLE(GENERATOR(ROWCOUNT => 120))\n            )\n            SELECT \n                Transaction_date,\n            FROM Future_Dates_CTE\n            \n            order by Transaction_date)\n            \"\"\")\n    results_df = sf_df.to_pandas()\n    ts_features = session.table('Retail_demo.Silver.Date_features')\n    sf_df = sf_df.join(ts_features, sf_df['TRANSACTION_DATE'] == ts_features[\"DATE_\"])\n    try: \n        model_registry = Registry(session=session, database_name=session.get_current_database(), schema_name='SILVER')\n        model_version = model_registry.get_model('DAILY_REVENUE_XGB').default    \n        preds = model_version.run(sf_df,function_name = 'predict')\n        results_df[\"Predicted_Amount\"]  = preds.select('\"output_feature_0\"').to_pandas()\n    except Exception as e:\n        print( f'Error with making predictions: {e}')\n    \n    if not results_df.empty:\n        try:\n            # Attempt to write the DataFrame to Snowflake\n            temp_df = session.write_pandas(results_df,database = \"RETAIL_DEMO\", \n                                                              schema = \"GOLD\", \n                                                              table_name = \"XGB_FORECASTED_DAILY_REVENUE\", \n                                                              uto_create_table = False,\n                                                              overwrite=False)\n            return  \"Successfully predicted and written to table\"\n        except Exception as e:\n            return  (f\"An error occurred: {e}\")\n    else:\n        return \"Dataframe is empty\"",
   "execution_count": null
  },
  {
   "cell_type": "code",
   "id": "9bf3311b-3d85-4806-a240-260131367e90",
   "metadata": {
    "language": "sql",
    "name": "cell3"
   },
   "outputs": [],
   "source": "CALL retail_demo.silver.Daily_Rev_Pred_Write();",
   "execution_count": null
  }
 ]
}